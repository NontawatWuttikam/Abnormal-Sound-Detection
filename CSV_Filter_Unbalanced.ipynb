{
  "nbformat": 4,
  "nbformat_minor": 0,
  "metadata": {
    "colab": {
      "name": "CSV_Filter_Unbalanced.ipynb",
      "provenance": [],
      "collapsed_sections": [],
      "toc_visible": true
    },
    "kernelspec": {
      "name": "python3",
      "display_name": "Python 3"
    },
    "language_info": {
      "name": "python"
    }
  },
  "cells": [
    {
      "cell_type": "markdown",
      "metadata": {
        "id": "RFjhHOtOZnlm"
      },
      "source": [
        "# **Audioset CSV filter by class ID**"
      ]
    },
    {
      "cell_type": "markdown",
      "metadata": {
        "id": "G5nIoFL3Z1mf"
      },
      "source": [
        "### **1. download unbalanced train segment.csv**"
      ]
    },
    {
      "cell_type": "code",
      "metadata": {
        "colab": {
          "base_uri": "https://localhost:8080/"
        },
        "id": "O61xaoabE_5q",
        "outputId": "2668b133-a700-4f9a-bbcc-dd1b639a6463"
      },
      "source": [
        "!wget http://storage.googleapis.com/us_audioset/youtube_corpus/v1/csv/unbalanced_train_segments.csv"
      ],
      "execution_count": null,
      "outputs": [
        {
          "output_type": "stream",
          "text": [
            "--2021-07-19 06:17:50--  http://storage.googleapis.com/us_audioset/youtube_corpus/v1/csv/unbalanced_train_segments.csv\n",
            "Resolving storage.googleapis.com (storage.googleapis.com)... 74.125.143.128, 108.177.119.128, 108.177.126.128, ...\n",
            "Connecting to storage.googleapis.com (storage.googleapis.com)|74.125.143.128|:80... connected.\n",
            "HTTP request sent, awaiting response... 200 OK\n",
            "Length: 101468408 (97M) [application/octet-stream]\n",
            "Saving to: ‘unbalanced_train_segments.csv’\n",
            "\n",
            "unbalanced_train_se 100%[===================>]  96.77M  82.4MB/s    in 1.2s    \n",
            "\n",
            "2021-07-19 06:17:51 (82.4 MB/s) - ‘unbalanced_train_segments.csv’ saved [101468408/101468408]\n",
            "\n"
          ],
          "name": "stdout"
        }
      ]
    },
    {
      "cell_type": "markdown",
      "metadata": {
        "id": "BSsceCb1aD7O"
      },
      "source": [
        "### **2. Read csv using Pandas and remove headers**"
      ]
    },
    {
      "cell_type": "code",
      "metadata": {
        "id": "om8EkJMglhcg",
        "colab": {
          "base_uri": "https://localhost:8080/"
        },
        "outputId": "63935511-5048-4574-a8e2-a5f7c81632ad"
      },
      "source": [
        "import pandas as pd\n",
        "import numpy as np\n",
        "\n",
        "df = pd.read_csv(filepath_or_buffer='/content/unbalanced_train_segments.csv', sep=',', skiprows= [0,5], quotechar='\"', skipinitialspace=True,header=None)\n",
        "df = df[3:]"
      ],
      "execution_count": null,
      "outputs": [
        {
          "output_type": "stream",
          "text": [
            "/usr/local/lib/python3.7/dist-packages/IPython/core/interactiveshell.py:2718: DtypeWarning: Columns (1,2) have mixed types.Specify dtype option on import or set low_memory=False.\n",
            "  interactivity=interactivity, compiler=compiler, result=result)\n"
          ],
          "name": "stderr"
        }
      ]
    },
    {
      "cell_type": "markdown",
      "metadata": {
        "id": "rXATf5lxaVOf"
      },
      "source": [
        "### **3. Display the dataframe**"
      ]
    },
    {
      "cell_type": "code",
      "metadata": {
        "colab": {
          "base_uri": "https://localhost:8080/",
          "height": 419
        },
        "id": "xIU29SLwIU8h",
        "outputId": "7ac32740-527d-43d3-9595-366f299149e3"
      },
      "source": [
        "df"
      ],
      "execution_count": null,
      "outputs": [
        {
          "output_type": "execute_result",
          "data": {
            "text/html": [
              "<div>\n",
              "<style scoped>\n",
              "    .dataframe tbody tr th:only-of-type {\n",
              "        vertical-align: middle;\n",
              "    }\n",
              "\n",
              "    .dataframe tbody tr th {\n",
              "        vertical-align: top;\n",
              "    }\n",
              "\n",
              "    .dataframe thead th {\n",
              "        text-align: right;\n",
              "    }\n",
              "</style>\n",
              "<table border=\"1\" class=\"dataframe\">\n",
              "  <thead>\n",
              "    <tr style=\"text-align: right;\">\n",
              "      <th></th>\n",
              "      <th>0</th>\n",
              "      <th>1</th>\n",
              "      <th>2</th>\n",
              "      <th>3</th>\n",
              "    </tr>\n",
              "  </thead>\n",
              "  <tbody>\n",
              "    <tr>\n",
              "      <th>3</th>\n",
              "      <td>---2_BBVHAA</td>\n",
              "      <td>30.000</td>\n",
              "      <td>40.000</td>\n",
              "      <td>/m/09x0r</td>\n",
              "    </tr>\n",
              "    <tr>\n",
              "      <th>4</th>\n",
              "      <td>---EDNidJUA</td>\n",
              "      <td>30.000</td>\n",
              "      <td>40.000</td>\n",
              "      <td>/m/02qldy,/m/02zsn,/m/05zppz,/m/09x0r</td>\n",
              "    </tr>\n",
              "    <tr>\n",
              "      <th>5</th>\n",
              "      <td>---N4cFAE1A</td>\n",
              "      <td>21.000</td>\n",
              "      <td>31.000</td>\n",
              "      <td>/m/04rlf,/m/09x0r</td>\n",
              "    </tr>\n",
              "    <tr>\n",
              "      <th>6</th>\n",
              "      <td>---fcVQUf3E</td>\n",
              "      <td>30.000</td>\n",
              "      <td>40.000</td>\n",
              "      <td>/m/019jd,/m/07yv9</td>\n",
              "    </tr>\n",
              "    <tr>\n",
              "      <th>7</th>\n",
              "      <td>---g9OGAhwc</td>\n",
              "      <td>30.000</td>\n",
              "      <td>40.000</td>\n",
              "      <td>/m/04rlf,/m/0c1dj</td>\n",
              "    </tr>\n",
              "    <tr>\n",
              "      <th>...</th>\n",
              "      <td>...</td>\n",
              "      <td>...</td>\n",
              "      <td>...</td>\n",
              "      <td>...</td>\n",
              "    </tr>\n",
              "    <tr>\n",
              "      <th>2041785</th>\n",
              "      <td>zzyyleHsxfk</td>\n",
              "      <td>20</td>\n",
              "      <td>30</td>\n",
              "      <td>/m/05tny_,/m/068hy,/m/0bt9lr,/m/0jbk</td>\n",
              "    </tr>\n",
              "    <tr>\n",
              "      <th>2041786</th>\n",
              "      <td>zzz-JsGPtxQ</td>\n",
              "      <td>120</td>\n",
              "      <td>130</td>\n",
              "      <td>/m/015lz1,/m/0l14jd</td>\n",
              "    </tr>\n",
              "    <tr>\n",
              "      <th>2041787</th>\n",
              "      <td>zzz3PZXRQ_8</td>\n",
              "      <td>30</td>\n",
              "      <td>40</td>\n",
              "      <td>/m/030rvx,/m/09x0r</td>\n",
              "    </tr>\n",
              "    <tr>\n",
              "      <th>2041788</th>\n",
              "      <td>zzznDcamMpw</td>\n",
              "      <td>0</td>\n",
              "      <td>10</td>\n",
              "      <td>/m/09ddx,/m/09x0r</td>\n",
              "    </tr>\n",
              "    <tr>\n",
              "      <th>2041789</th>\n",
              "      <td>zzztDPePp4g</td>\n",
              "      <td>410</td>\n",
              "      <td>420</td>\n",
              "      <td>/m/04rlf,/m/09x0r,/t/dd00126</td>\n",
              "    </tr>\n",
              "  </tbody>\n",
              "</table>\n",
              "<p>2041787 rows × 4 columns</p>\n",
              "</div>"
            ],
            "text/plain": [
              "                   0       1       2                                      3\n",
              "3        ---2_BBVHAA  30.000  40.000                               /m/09x0r\n",
              "4        ---EDNidJUA  30.000  40.000  /m/02qldy,/m/02zsn,/m/05zppz,/m/09x0r\n",
              "5        ---N4cFAE1A  21.000  31.000                      /m/04rlf,/m/09x0r\n",
              "6        ---fcVQUf3E  30.000  40.000                      /m/019jd,/m/07yv9\n",
              "7        ---g9OGAhwc  30.000  40.000                      /m/04rlf,/m/0c1dj\n",
              "...              ...     ...     ...                                    ...\n",
              "2041785  zzyyleHsxfk      20      30   /m/05tny_,/m/068hy,/m/0bt9lr,/m/0jbk\n",
              "2041786  zzz-JsGPtxQ     120     130                    /m/015lz1,/m/0l14jd\n",
              "2041787  zzz3PZXRQ_8      30      40                     /m/030rvx,/m/09x0r\n",
              "2041788  zzznDcamMpw       0      10                      /m/09ddx,/m/09x0r\n",
              "2041789  zzztDPePp4g     410     420           /m/04rlf,/m/09x0r,/t/dd00126\n",
              "\n",
              "[2041787 rows x 4 columns]"
            ]
          },
          "metadata": {
            "tags": []
          },
          "execution_count": 3
        }
      ]
    },
    {
      "cell_type": "markdown",
      "metadata": {
        "id": "OmUEMsdgaqm4"
      },
      "source": [
        "### **4. Define the class indices to filter**\n",
        "- class indices for each class can be found in class_labels_indices.csv"
      ]
    },
    {
      "cell_type": "code",
      "metadata": {
        "id": "e7ZH5cVplz1x"
      },
      "source": [
        "classes = ['/m/03qc9zr',\n",
        "           '/m/0463cq4',\n",
        "           '/t/dd00002',\n",
        "           '/m/05tny_',\n",
        "           '/m/02_41',\n",
        "           '/m/02mfyn',\n",
        "           '/m/012ndj',\n",
        "           '/m/07pp_mv',\n",
        "           '/m/03kmc9',\n",
        "           '/m/01y3hg',\n",
        "           '/m/0c3f7m',\n",
        "           '/m/014zdl',\n",
        "           '/m/032s66',\n",
        "           '/m/0_1c']\n",
        "# df = df[0].str.split(',',3,expand=True)\n",
        "# df[3] = df[3].str.replace('\"','')\n",
        "# df[3] = df[3].str.replace(' ','')\n",
        "# df = df[3:]\n",
        "# df = df.apply(lambda x: x in classes)"
      ],
      "execution_count": null,
      "outputs": []
    },
    {
      "cell_type": "markdown",
      "metadata": {
        "id": "rNEMFUR0bH4h"
      },
      "source": [
        "### **5. Filter the classes (Choose these 2 options)**"
      ]
    },
    {
      "cell_type": "markdown",
      "metadata": {
        "id": "7JTSmlCichO2"
      },
      "source": [
        "**5.1 filter out the defined classes above**"
      ]
    },
    {
      "cell_type": "code",
      "metadata": {
        "id": "2nqJcABzmbmQ",
        "colab": {
          "base_uri": "https://localhost:8080/"
        },
        "outputId": "6e443d5f-8e88-4d10-a247-b644c33d6521"
      },
      "source": [
        "dfd = df[df.apply(lambda x: all([i not in classes for i in x[3].split(',')]),axis=1)]\n",
        "print('all classes csv length : ',len(df))\n",
        "print('filtered csv length : ',len(dfd))"
      ],
      "execution_count": null,
      "outputs": [
        {
          "output_type": "stream",
          "text": [
            "all classes csv length :  2041787\n",
            "filtered csv length :  2015032\n"
          ],
          "name": "stdout"
        }
      ]
    },
    {
      "cell_type": "markdown",
      "metadata": {
        "id": "bBAr4n34cw7P"
      },
      "source": [
        "**5.1 filter out only the classes that wasn't defined from above**"
      ]
    },
    {
      "cell_type": "code",
      "metadata": {
        "colab": {
          "base_uri": "https://localhost:8080/"
        },
        "id": "dZO5sRNOcUd5",
        "outputId": "7c821dc7-5eee-439f-851e-956eec3c833c"
      },
      "source": [
        "dfd = df[df.apply(lambda x: any([i in classes for i in x[3].split(',')]),axis=1)]\n",
        "print('all classes csv length : ',len(df))\n",
        "print('filtered csv length : ',len(dfd))"
      ],
      "execution_count": null,
      "outputs": [
        {
          "output_type": "stream",
          "text": [
            "all classes csv length :  2041787\n",
            "filtered csv length :  26755\n"
          ],
          "name": "stdout"
        }
      ]
    },
    {
      "cell_type": "markdown",
      "metadata": {
        "id": "EPuW9KnfbwGn"
      },
      "source": [
        "### **6. Trim the filtered csv to a specific range (optional)**"
      ]
    },
    {
      "cell_type": "code",
      "metadata": {
        "id": "roeWE_2aSjMw"
      },
      "source": [
        "dfd = dfd[0 : 1000]"
      ],
      "execution_count": null,
      "outputs": []
    },
    {
      "cell_type": "markdown",
      "metadata": {
        "id": "SIkFc36tdd-e"
      },
      "source": [
        "### **7. Save the result to a new csv**"
      ]
    },
    {
      "cell_type": "code",
      "metadata": {
        "id": "tTdryWrqp92B"
      },
      "source": [
        "className = '10_Noises_Exclude' #class name\n",
        "filename = className +'_'+''.join(str(i).replace('/','') + '_' for i in classes) + '.csv'\n",
        "# dfd.to_excel(\"/content/drive/MyDrive/\"+filename, sheet_name='sheet1')\n",
        "dfd.to_csv(\"/content/drive/MyDrive/\"+filename,sep = ',')"
      ],
      "execution_count": null,
      "outputs": []
    }
  ]
}